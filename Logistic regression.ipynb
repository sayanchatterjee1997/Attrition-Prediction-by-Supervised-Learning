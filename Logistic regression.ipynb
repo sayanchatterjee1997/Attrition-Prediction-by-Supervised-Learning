{
 "cells": [
  {
   "cell_type": "code",
   "execution_count": 6,
   "metadata": {},
   "outputs": [
    {
     "name": "stdout",
     "output_type": "stream",
     "text": [
      "   Age  DailyRate  DistanceFromHome  Education  EnvironmentSatisfaction  \\\n",
      "0   41       1102                 1          2                        2   \n",
      "1   49        279                 8          1                        3   \n",
      "2   37       1373                 2          2                        4   \n",
      "3   33       1392                 3          4                        4   \n",
      "4   27        591                 2          1                        1   \n",
      "\n",
      "   HourlyRate  JobInvolvement  JobLevel  JobSatisfaction  MonthlyIncome  ...  \\\n",
      "0          94               3         2                4           5993  ...   \n",
      "1          61               2         2                2           5130  ...   \n",
      "2          92               2         1                3           2090  ...   \n",
      "3          56               3         1                3           2909  ...   \n",
      "4          40               3         1                2           3468  ...   \n",
      "\n",
      "   JobRole_Manufacturing Director  JobRole_Research Director  \\\n",
      "0                               0                          0   \n",
      "1                               0                          0   \n",
      "2                               0                          0   \n",
      "3                               0                          0   \n",
      "4                               0                          0   \n",
      "\n",
      "   JobRole_Research Scientist  JobRole_Sales Executive  \\\n",
      "0                           0                        1   \n",
      "1                           1                        0   \n",
      "2                           0                        0   \n",
      "3                           1                        0   \n",
      "4                           0                        0   \n",
      "\n",
      "   JobRole_Sales Representative  MaritalStatus_Divorced  \\\n",
      "0                             0                       0   \n",
      "1                             0                       0   \n",
      "2                             0                       0   \n",
      "3                             0                       0   \n",
      "4                             0                       0   \n",
      "\n",
      "   MaritalStatus_Married  MaritalStatus_Single  OverTime_No  OverTime_Yes  \n",
      "0                      0                     1            0             1  \n",
      "1                      1                     0            1             0  \n",
      "2                      0                     1            0             1  \n",
      "3                      1                     0            0             1  \n",
      "4                      1                     0            1             0  \n",
      "\n",
      "[5 rows x 51 columns]\n",
      "[0 0 0 0 1 0 0 1 0 0 0 1 0 0 0 0 0 0 0 0 0 0 0 0 0 0 0 0 1 0 0 0 0 0 0 0 0\n",
      " 0 0 0 0 0 0 0 0 0 0 0 0 0 0 0 0 0 0 0 0 0 0 0 0 0 0 0 0 0 0 0 0 0 0 1 0 1\n",
      " 0 0 1 0 0 1 0 0 0 1 1 0 0 0 0 0 0 0 0 0 0 0 0 0 0 0 0 0 0 0 0 0 0 0 0 0 0\n",
      " 0 0 1 0 0 0 0 0 0 0 0 0 0 0 0 0 0 1 0 0 0 0 0 0 0 0 0 0 0 0 0 0 0 0 0 0 0\n",
      " 0 0 1 0 0 0 0 1 0 0 0 0 0 0 0 0 0 0 0 0 0 0 0 1 0 0 0 0 0 0 0 1 0 0 0 0 0\n",
      " 0 0 0 0 0 0 0 1 0 0 1 0 0 0 0 0 0 0 1 0 1 0 0 0 0 1 0 1 0 0 0 0 1 0 1 0 0\n",
      " 0 0 0 0 0 0 0 0 0 0 0 0 0 0 0 0 0 0 0 0 0 0 0 0 0 0 0 0 0 0 0 0 0 0 0 0 0\n",
      " 0 0 0 0 0 0 0 0 0 0 0 0 0 1 0 0 0 0 0 0 0 0 0 0 0 0 0 0 0 0 0 0 0 0 0 0 0\n",
      " 0 0 1 1 0 0 0 0 0 1 0 0 1]\n",
      "0.8349514563106796\n"
     ]
    },
    {
     "name": "stderr",
     "output_type": "stream",
     "text": [
      "C:\\Users\\SAYAN\\Anaconda3\\anaconda new\\lib\\site-packages\\sklearn\\linear_model\\logistic.py:432: FutureWarning: Default solver will be changed to 'lbfgs' in 0.22. Specify a solver to silence this warning.\n",
      "  FutureWarning)\n"
     ]
    }
   ],
   "source": [
    "from sklearn.linear_model import LogisticRegression \n",
    "from sklearn.model_selection import train_test_split \n",
    "\n",
    "\n",
    "\n",
    "logreg = LogisticRegression() \n",
    "import pandas as pd\n",
    "\n",
    "file=pd.read_csv(\"train.csv\")\n",
    "a1=file.drop(\"Attrition\",axis=1)\n",
    "a2=a1.drop(\"EmployeeCount\",axis=1)\n",
    "a3=a2.drop(\"EmployeeNumber\",axis=1)\n",
    "a4=a3.drop(\"ID\",axis=1)\n",
    "a5=pd.get_dummies(a4)\n",
    "\n",
    "print(a5.head())\n",
    "X_train, X_test, y_train, y_test = train_test_split(a5, file[\"Attrition\"], test_size=0.3, random_state=48) \n",
    "logreg.fit(X_train, y_train) \n",
    "y_pred = logreg.predict(X_test)\n",
    "print(y_pred)\n",
    "print(logreg.score(X_test,y_test))\n",
    "\n",
    "\n"
   ]
  },
  {
   "cell_type": "code",
   "execution_count": 2,
   "metadata": {},
   "outputs": [
    {
     "name": "stdout",
     "output_type": "stream",
     "text": [
      "   Age  DailyRate  DistanceFromHome  Education  EmployeeCount  EmployeeNumber  \\\n",
      "0   40        663                 9          4              1            1449   \n",
      "1   31        326                 8          2              1            1453   \n",
      "2   46        377                 9          3              1            1457   \n",
      "3   39        592                 2          3              1            1458   \n",
      "4   31       1445                 1          5              1            1459   \n",
      "\n",
      "   EnvironmentSatisfaction  HourlyRate  JobInvolvement  JobLevel  ...  \\\n",
      "0                        3          81               3         2  ...   \n",
      "1                        1          31               3         3  ...   \n",
      "2                        1          52               3         3  ...   \n",
      "3                        1          54               2         1  ...   \n",
      "4                        3         100               4         3  ...   \n",
      "\n",
      "   JobRole_Manufacturing Director  JobRole_Research Director  \\\n",
      "0                               0                          0   \n",
      "1                               0                          0   \n",
      "2                               0                          0   \n",
      "3                               0                          0   \n",
      "4                               1                          0   \n",
      "\n",
      "   JobRole_Research Scientist  JobRole_Sales Executive  \\\n",
      "0                           0                        0   \n",
      "1                           0                        1   \n",
      "2                           0                        1   \n",
      "3                           0                        0   \n",
      "4                           0                        0   \n",
      "\n",
      "   JobRole_Sales Representative  MaritalStatus_Divorced  \\\n",
      "0                             0                       1   \n",
      "1                             0                       1   \n",
      "2                             0                       1   \n",
      "3                             0                       0   \n",
      "4                             0                       0   \n",
      "\n",
      "   MaritalStatus_Married  MaritalStatus_Single  OverTime_No  OverTime_Yes  \n",
      "0                      0                     0            1             0  \n",
      "1                      0                     0            1             0  \n",
      "2                      0                     0            1             0  \n",
      "3                      0                     1            0             1  \n",
      "4                      0                     1            1             0  \n",
      "\n",
      "[5 rows x 54 columns]\n"
     ]
    },
    {
     "name": "stderr",
     "output_type": "stream",
     "text": [
      "C:\\Users\\SAYAN\\Anaconda3\\anaconda new\\lib\\site-packages\\sklearn\\linear_model\\logistic.py:432: FutureWarning: Default solver will be changed to 'lbfgs' in 0.22. Specify a solver to silence this warning.\n",
      "  FutureWarning)\n"
     ]
    }
   ],
   "source": [
    "logreg.fit(a5, file[\"Attrition\"])\n",
    "b1=pd.read_csv(\"test.csv\")\n",
    "b2=pd.get_dummies(b1)\n",
    "print(b2.head())\n",
    "b3=b2.drop(\"EmployeeCount\",axis=1)\n",
    "b4=b3.drop(\"EmployeeNumber\",axis=1)\n",
    "b5=b4.drop(\"ID\",axis=1)\n",
    "v=logreg.predict(b5)\n",
    "df_n=pd.DataFrame(v)\n",
    "df_n.to_csv('C:/Users/SAYAN/Desktop/ML_assign2/logreg_not_ext_v.csv')\n",
    "#no feature extraction, fit it in the entire data.\n",
    "#accuracy 89.898\n",
    "\n"
   ]
  },
  {
   "cell_type": "code",
   "execution_count": null,
   "metadata": {},
   "outputs": [],
   "source": []
  }
 ],
 "metadata": {
  "kernelspec": {
   "display_name": "Python 3",
   "language": "python",
   "name": "python3"
  },
  "language_info": {
   "codemirror_mode": {
    "name": "ipython",
    "version": 3
   },
   "file_extension": ".py",
   "mimetype": "text/x-python",
   "name": "python",
   "nbconvert_exporter": "python",
   "pygments_lexer": "ipython3",
   "version": "3.7.4"
  }
 },
 "nbformat": 4,
 "nbformat_minor": 2
}
